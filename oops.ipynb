{
 "cells": [
  {
   "cell_type": "code",
   "execution_count": 3,
   "metadata": {},
   "outputs": [],
   "source": [
    "\n",
    "student_names=[]\n",
    "roll_nums=[]\n",
    "branches=[]\n",
    "paid_amounts=[]"
   ]
  },
  {
   "cell_type": "code",
   "execution_count": 4,
   "metadata": {},
   "outputs": [],
   "source": [
    "def create_student(name,roll_no,branch,paid_amount):\n",
    "    student_names.append(name)\n",
    "    roll_nums.append(roll_no)\n",
    "    branches.append(branch)\n",
    "    paid_amounts.append(paid_amount)"
   ]
  },
  {
   "cell_type": "markdown",
   "metadata": {},
   "source": [
    "student_names=[]\n",
    "roll_nums=[]\n",
    "branches=[]\n",
    "paid_amounts=[]\n",
    " \n",
    "def create_student(name,roll_no,branch,paid_amount):\n",
    "    student_names.append(name)\n",
    "    roll_nums.append(roll_no)\n",
    "    branches.append(branch)\n",
    "    paid_amounts.append(paid_amount)\n"
   ]
  },
  {
   "cell_type": "code",
   "execution_count": 5,
   "metadata": {},
   "outputs": [],
   "source": [
    "create_student(\"naga\",34,\"CSE\",34000)"
   ]
  },
  {
   "cell_type": "code",
   "execution_count": 6,
   "metadata": {},
   "outputs": [
    {
     "name": "stdout",
     "output_type": "stream",
     "text": [
      "['naga'] \n",
      " [34] \n",
      " ['CSE'] \n",
      " [34000, 34000]\n"
     ]
    }
   ],
   "source": [
    "print( student_names ,\"\\n\", roll_nums ,\"\\n\", branches,\"\\n\", paid_amounts )"
   ]
  },
  {
   "cell_type": "code",
   "execution_count": 19,
   "metadata": {},
   "outputs": [],
   "source": [
    "class student:\n",
    "    def _init_(self,name,roll_no,branch,paid_amount):\n",
    "        self.name=name\n",
    "        self.roll_no=roll_no\n",
    "        self.branch= branch\n",
    "        self.paid_amount=paid_amount"
   ]
  },
  {
   "cell_type": "code",
   "execution_count": null,
   "metadata": {},
   "outputs": [],
   "source": [
    "def get_summary(self):\n",
    "    print(f\"the name of the student is{self.name}\\n\")"
   ]
  },
  {
   "cell_type": "code",
   "execution_count": 21,
   "metadata": {},
   "outputs": [
    {
     "ename": "TypeError",
     "evalue": "student() takes no arguments",
     "output_type": "error",
     "traceback": [
      "\u001b[1;31m---------------------------------------------------------------------------\u001b[0m",
      "\u001b[1;31mTypeError\u001b[0m                                 Traceback (most recent call last)",
      "\u001b[1;32mc:\\Users\\my\\Downloads\\python basic\\oops.ipynb Cell 8\u001b[0m line \u001b[0;36m1\n\u001b[1;32m----> <a href='vscode-notebook-cell:/c%3A/Users/my/Downloads/python%20basic/oops.ipynb#X10sZmlsZQ%3D%3D?line=0'>1</a>\u001b[0m \u001b[39mself\u001b[39m \u001b[39m=\u001b[39m student(\u001b[39m\"\u001b[39;49m\u001b[39mnaga\u001b[39;49m\u001b[39m\"\u001b[39;49m,\u001b[39m12\u001b[39;49m,\u001b[39m\"\u001b[39;49m\u001b[39mcse\u001b[39;49m\u001b[39m\"\u001b[39;49m,\u001b[39m12000\u001b[39;49m)\n",
      "\u001b[1;31mTypeError\u001b[0m: student() takes no arguments"
     ]
    }
   ],
   "source": [
    "self = student(\"naga\",12,\"cse\",12000)"
   ]
  }
 ],
 "metadata": {
  "kernelspec": {
   "display_name": "Python 3",
   "language": "python",
   "name": "python3"
  },
  "language_info": {
   "codemirror_mode": {
    "name": "ipython",
    "version": 3
   },
   "file_extension": ".py",
   "mimetype": "text/x-python",
   "name": "python",
   "nbconvert_exporter": "python",
   "pygments_lexer": "ipython3",
   "version": "3.11.6"
  }
 },
 "nbformat": 4,
 "nbformat_minor": 2
}
