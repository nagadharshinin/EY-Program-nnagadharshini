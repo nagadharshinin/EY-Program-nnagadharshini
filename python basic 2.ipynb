{
 "cells": [
  {
   "cell_type": "code",
   "execution_count": 1,
   "metadata": {},
   "outputs": [
    {
     "name": "stdout",
     "output_type": "stream",
     "text": [
      "hello world\n"
     ]
    }
   ],
   "source": [
    "print(\"hello world\")\n"
   ]
  },
  {
   "cell_type": "code",
   "execution_count": 5,
   "metadata": {},
   "outputs": [],
   "source": [
    "def factorial(n):\n",
    "    fact=1\n",
    "    while n!=1:\n",
    "        fact=fact*n\n",
    "        n=n-1\n",
    "    return fact"
   ]
  },
  {
   "cell_type": "code",
   "execution_count": 6,
   "metadata": {},
   "outputs": [
    {
     "data": {
      "text/plain": [
       "3628800"
      ]
     },
     "execution_count": 6,
     "metadata": {},
     "output_type": "execute_result"
    }
   ],
   "source": [
    "factorial(10)"
   ]
  },
  {
   "cell_type": "code",
   "execution_count": 1,
   "metadata": {},
   "outputs": [],
   "source": [
    "student_details_list = [\"dhivya\",\"dharshini\",\"sowmiya\",\"pavi\"]"
   ]
  },
  {
   "cell_type": "code",
   "execution_count": 2,
   "metadata": {},
   "outputs": [
    {
     "data": {
      "text/plain": [
       "['dharshini', 'sowmiya']"
      ]
     },
     "execution_count": 2,
     "metadata": {},
     "output_type": "execute_result"
    }
   ],
   "source": [
    "student_details_list[1:3]"
   ]
  },
  {
   "cell_type": "code",
   "execution_count": 3,
   "metadata": {},
   "outputs": [],
   "source": [
    "def calculate_age():\n",
    "    X = int(input(\"Enter your yob: \")) \n",
    "    age=2023-X\n",
    "    print(age)"
   ]
  },
  {
   "cell_type": "code",
   "execution_count": 4,
   "metadata": {},
   "outputs": [
    {
     "name": "stdout",
     "output_type": "stream",
     "text": [
      "20\n"
     ]
    }
   ],
   "source": [
    "calculate_age()"
   ]
  },
  {
   "cell_type": "code",
   "execution_count": 31,
   "metadata": {},
   "outputs": [],
   "source": [
    "def calculate_advance_age():\n",
    "    dob=input(\"enter the ddmmyy:\")\n",
    "    age=dob[4:8]\n",
    "    mob=dob[2:4]\n",
    "    day_b=dob[0:2]\n",
    "    age=int(age)\n",
    "    mob=int(mob)\n",
    "    day_b=int(day_b)\n",
    "    birth_days=365*age+30*mob+day_b\n",
    "    current_days=365*2023+30*10+28\n",
    "    age_days=current_days-birth_days\n",
    "    age_year = age_days//365\n",
    "    remainder_days=age_days%365\n",
    "    age_month = remainder_days//30\n",
    "    age_day = remainder_days%30\n",
    "    print(f\"the age is{age_year} year,{age_month} month,{age_day} day\")\n",
    "    "
   ]
  },
  {
   "cell_type": "code",
   "execution_count": 32,
   "metadata": {},
   "outputs": [
    {
     "name": "stdout",
     "output_type": "stream",
     "text": [
      "the age is0 year,0 month,20 day\n"
     ]
    }
   ],
   "source": [
    "calculate_advance_age()"
   ]
  },
  {
   "cell_type": "code",
   "execution_count": 33,
   "metadata": {},
   "outputs": [
    {
     "name": "stdout",
     "output_type": "stream",
     "text": [
      "\n",
      "print string in positional order:\n",
      "pythonprogramminglanguage\n"
     ]
    }
   ],
   "source": [
    "String1=\"{}{}{}\".format('python','programming','language')\n",
    "print(\"\\nprint string in positional order:\")\n",
    "print(String1)"
   ]
  },
  {
   "cell_type": "code",
   "execution_count": null,
   "metadata": {},
   "outputs": [],
   "source": []
  }
 ],
 "metadata": {
  "kernelspec": {
   "display_name": "Python 3",
   "language": "python",
   "name": "python3"
  },
  "language_info": {
   "codemirror_mode": {
    "name": "ipython",
    "version": 3
   },
   "file_extension": ".py",
   "mimetype": "text/x-python",
   "name": "python",
   "nbconvert_exporter": "python",
   "pygments_lexer": "ipython3",
   "version": "3.11.6"
  },
  "orig_nbformat": 4
 },
 "nbformat": 4,
 "nbformat_minor": 2
}
